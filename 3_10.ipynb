{
 "cells": [
  {
   "cell_type": "markdown",
   "metadata": {},
   "source": [
    "### Aufgabe 15\n",
    "\n",
    "Wie du merkst, ist es trotzdem noch sehr schwer, die Parameter durch Ausprobieren zu finden. Jetzt stell dir mal vor, man müsste das für alle Merkmale der Hunde machen.\n",
    "\n",
    "Wir müssen also ein Verfahren entwickeln, das die besten Parameter für uns findet. Häufig verwendet man dafür das Gradientenverfahren – auf [YouTube](https://www.youtube.com/watch?v=trA2pbxzTjE) und\n",
    "[Wikipedia](https://de.wikipedia.org/wiki/Gradientenverfahren) kannst du dich dazu informieren, bevor wir weitermachen.\n",
    "\n",
    "Um das Gradientenverfahren anwenden zu können, müssen wir den Gradienten, also die Richtung mit den größten Abstieg, der Kostenfunktion kennen. Den erhalten wir, indem wir die Kostenfunktion ableiten.\n",
    "\n",
    "Die partielle Ableitung der Kostenfunktion nach einem Gewicht \\\\(w_i\\\\) für einen einzelnen Hund mit Merkmalen \\\\(\\vec{x}\\\\) ist gegeben durch:\n",
    "$$\\frac{d}{dw_i}\\operatorname{cost}(\\vec{x}, \\vec{w}, y)= (p(\\vec{x}) -y)x_i$$\n",
    "und für den Bias:\n",
    "$$\\frac{d}{db}\\operatorname{cost}(\\vec{x}, \\vec{w}, y)= (p(\\vec{x}) -y)$$\n",
    "Der Gradient fuer alle Hunde ist einfach das Mittel der einzelnen Gradienten.\n",
    "\n",
    "\\\\(y\\\\) ist hier wieder das Label (gesund / krank) des jeweiligen Hundes. Wir wollen das Gradientenverfahren anwenden, um Gewichte und den Bias zu finden, die uns die beste Diagnose liefern. Dazu musst du eine Funktion schreiben, die bei jedem Schritt die Werte anpasst.\\\n",
    " Die Werte werden immer in Gegenrichtung des Gradienten verändert, um die Kostenfunktion zu minimieren. Das heißt, du musst in der Funktion `derivative_cost` die Ableitungen der Kostenfunktion anwenden.\n",
    "\n",
    "Nur für dein Interesse: In unserem Test, der dir ausgibt, ob dein Ergebnis richtig ist, starten wir den ersten Schritt, indem wir alle Gewichte und den Bias auf 0.1 setzen und die Lernrate auf `alpha = 0.0001`. Wenn du in deinem Jupyter Notebook deine Funktionen testest, \\\n",
    "kannst du auch diese Werte übernehmen.\n"
   ]
  },
  {
   "cell_type": "code",
   "execution_count": null,
   "metadata": {},
   "outputs": [],
   "source": [
    "import numpy as np\n",
    "\n",
    "# Daten laden\n",
    "D = np.load('data/train_data.npy')"
   ]
  },
  {
   "cell_type": "code",
   "execution_count": null,
   "metadata": {},
   "outputs": [],
   "source": [
    "import numpy as np\n",
    "\n",
    "\n",
    "def sigmoid(x):\n",
    "    \"\"\"Sigmoid Funktion\n",
    "    Args:\n",
    "        x (np.ndmatrix): Werte auf den die Sigmoid-Funktion angewendet wird\n",
    "\n",
    "    Returns:\n",
    "         np.array: Transformierte Werte.\n",
    "\n",
    "    Note:\n",
    "        Verwende die np.exp Funktion. Alle Funktionen die du hier verwendest\n",
    "        aktzeptieren auch Vektoren. Somit unterscheidet sich die\n",
    "        Vektor-Implementierung nicht von der Skalaren version.\n",
    "    \"\"\"\n",
    "    s = ...\n",
    "    return s\n",
    "\n",
    "def p(X, w1, w2, b):\n",
    "    \"\"\"Wahrscheinlichkeit dass ein Hunde krank ist fuer alle Hunde gleichzeitig.\n",
    "\n",
    "    Args:\n",
    "        X (numpy.ndarray): Datenmatrix:\n",
    "            - pro Hund eine Zeile (erster Index)\n",
    "            - zwei Spalten: Herzfrequenz, ST-Depression (zweiter Index)\n",
    "        w1 (float): Gewichtet die Herzfrequenz.\n",
    "        w2 (float): Gewichtet die ST-Depression\n",
    "        b (float): Verschiebung zur Unterscheidung des Gesundheitszustands.\n",
    "\n",
    "        Returns:\n",
    "            numpy.ndarray: Vektor:\n",
    "                - pro Hund eine Wahrscheinlichkeit, dass der Hund krank ist\n",
    "                    (Werte < 0.5: Hund ist wahrscheinlich gesund,\n",
    "                     Werte > 0.5 Hund ist wahrcheinlich krank.)\n",
    "    \"\"\"\n",
    "    v = ...\n",
    "    return v\n",
    "\n",
    "def derivative(X, Y, w1, w2, b):\n",
    "    \"\"\"Ableitung der Gewichte und des Bias.\n",
    "\n",
    "    Args:\n",
    "        X (numpy.ndarray): Datenmatrix:\n",
    "            - pro Hund eine Zeile (erster Index)\n",
    "            - zwei Spalten: Herzfrequenz, ST-Depression (zweiter Index)\n",
    "        Y (numpy.ndarray): Vektor mit den Lables:\n",
    "            - pro Hund ein Wert mit dem tatsaechlichem\n",
    "                Gesundheitszustand des Hundes.\n",
    "        w1 (float): Gewichtet die Herzfrequenz.\n",
    "        w2 (float): Gewichtet die ST-Depression\n",
    "        b (float): Verschiebung zur Unterscheidung des Gesundheitszustands.\n",
    "\n",
    "        Returns:\n",
    "            (float, float, float): Die neuen Gewichte (w1, w2) und den neuen Bias (b).\n",
    "    \"\"\"\n",
    "    d_w1 = ...\n",
    "    d_w2 = ...\n",
    "    d_b = ...\n",
    "    return d_w1, d_w2, d_b\n",
    "\n",
    "def step(D, w1, w2, b, alpha):\n",
    "    \"\"\"Durchfuehren eines Optimierungsschritts.\n",
    "\n",
    "    Args:\n",
    "        D (numpy.ndarray): Datenmatrix:\n",
    "            - pro Hund eine Zeile (erster Index)\n",
    "            - pro Eigenschaft eine Spalte (zweiter Index)\n",
    "        w1 (float): Gewichtet die Herzfrequenz.\n",
    "        w2 (float): Gewichtet die ST-Depression\n",
    "        b (float): Verschiebung zur Unterscheidung des Gesundheitszustands.\n",
    "        alpha (float): Learning rate.\n",
    "\n",
    "        Returns:\n",
    "            (float, float, float): Die neuen Gweichte (w1, w2) und den neuen Bias (b).\n",
    "    \"\"\"\n",
    "    w1_new = ...\n",
    "    w2_new = ...\n",
    "    b_new = ...\n",
    "    return w1_new, w2_new, b_new"
   ]
  }
 ],
 "metadata": {
  "kernelspec": {
   "display_name": "Python 3",
   "language": "python",
   "name": "python3"
  },
  "language_info": {
   "codemirror_mode": {
    "name": "ipython",
    "version": 3
   },
   "file_extension": ".py",
   "mimetype": "text/x-python",
   "name": "python",
   "nbconvert_exporter": "python",
   "pygments_lexer": "ipython3",
   "version": "3.7.2"
  },
  "varInspector": {
   "cols": {
    "lenName": 16,
    "lenType": 16,
    "lenVar": 40
   },
   "kernels_config": {
    "python": {
     "delete_cmd_postfix": "",
     "delete_cmd_prefix": "del ",
     "library": "var_list.py",
     "varRefreshCmd": "print(var_dic_list())"
    },
    "r": {
     "delete_cmd_postfix": ") ",
     "delete_cmd_prefix": "rm(",
     "library": "var_list.r",
     "varRefreshCmd": "cat(var_dic_list()) "
    }
   },
   "types_to_exclude": [
    "module",
    "function",
    "builtin_function_or_method",
    "instance",
    "_Feature"
   ],
   "window_display": false
  }
 },
 "nbformat": 4,
 "nbformat_minor": 2
}
