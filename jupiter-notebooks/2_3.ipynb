{
 "cells": [
  {
   "cell_type": "markdown",
   "metadata": {},
   "source": [
    "### Aufgabe 3\n",
    "\n",
    "_Zur Erinnerung: das letzte erhobene Merkmal ist der Gesundheitszustand des jeweiligen Hundes. Damit du ein Bild der bisherigen Fälle bekommst, solltest du auch wissen, wie viele Hunde krank waren (0 = gesund, 1 = krank). Auch hier wieder ein kleiner Hinweis: Dazu musst du die Summe über die Letzte der 14 Spalten nehmen._"
   ]
  },
  {
   "cell_type": "code",
   "execution_count": null,
   "metadata": {
    "collapsed": true
   },
   "outputs": [],
   "source": [
    "import numpy as np\n",
    "\n",
    "# Daten laden\n",
    "D = np.load('data/train_data.npy')"
   ]
  },
  {
   "cell_type": "code",
   "execution_count": null,
   "metadata": {
    "collapsed": true
   },
   "outputs": [],
   "source": [
    "def n_pathologic_subjects(D):\n",
    "    \"\"\"Anzahl kranker (pathologischer) Hunde.\n",
    "\n",
    "    Args:\n",
    "        D (numpy.ndarray): Datenmatrix:\n",
    "            - pro Hund eine Zeile (erster Index)\n",
    "            - pro Eigenschaft eine Spalte (zweiter Index)\n",
    "\n",
    "    Returns:\n",
    "        float: Anzahl kranker Hunde.\n",
    "    \"\"\"\n",
    "    n_path_subjects = # ADD YOUR CODE HERE\n",
    "    return n_path_subjects"
   ]
  },
  {
   "cell_type": "code",
   "execution_count": null,
   "metadata": {
    "collapsed": true
   },
   "outputs": [],
   "source": [
    "print(n_pathologic_subjects(D))"
   ]
  },
  {
   "cell_type": "markdown",
   "metadata": {},
   "source": [
    "Wenn du noch weiter üben möchtest, kannst du gern folgende Zusatz-Aufgaben lösen:"
   ]
  },
  {
   "cell_type": "markdown",
   "metadata": {},
   "source": [
    "Das Tierheim möchte wissen, wie viele Hunde im Tierheim waren und wie viele Hunde davon krank waren. Kannst du ihnen dabei helfen? Verwende dazu zum einen eine for-Schleife (https://www.python-kurs.eu/python3_for-schleife.php) und zum anderen die Funktion \"mean\" der numpy-Bibliothek: np.mean() (https://docs.scipy.org/doc/numpy-1.13.0/reference/generated/numpy.mean.htm)."
   ]
  },
  {
   "cell_type": "code",
   "execution_count": null,
   "metadata": {
    "collapsed": true
   },
   "outputs": [],
   "source": [
    "def number_of_dogs(D):\n",
    "    \"\"\"Anzahl kranker (pathologischer) Hunde.\n",
    "    Args:\n",
    "        D (numpy.ndarray): Datenmatrix:\n",
    "            - pro Hund eine Zeile (erster Index)\n",
    "            - pro Eigenschaft eine Spalte (zweiter Index)\n",
    "    Returns:\n",
    "        float: Anzahl kranker Hunde.\n",
    "    \"\"\"\n",
    "    num = ...\n",
    "    # return number of dogs\n",
    "    return num\n",
    "\n"
   ]
  },
  {
   "cell_type": "code",
   "execution_count": null,
   "metadata": {
    "collapsed": true
   },
   "outputs": [],
   "source": [
    "def n_pathologic_subjects_forloop(D):\n",
    "    # use a for-loop to solve this task\n",
    "    n_path_subjects = ...\n",
    "    # return number of sick dogs\n",
    "    return n_path_subjects\n",
    "\n"
   ]
  },
  {
   "cell_type": "code",
   "execution_count": null,
   "metadata": {
    "collapsed": true
   },
   "outputs": [],
   "source": [
    "def n_pathologic_subjects_numpy(D):\n",
    "    # use np.mean() to solve this task\n",
    "    n_path_subjects = ...\n",
    "    # return number of sick dogs\n",
    "    return n_path_subjects\n",
    "\n"
   ]
  },
  {
   "cell_type": "markdown",
   "metadata": {},
   "source": [
    "Ein Pfleger möchte wissen, was die durchschnittliche Herzfrequenz ist und welche Hunde eine höhere und welche eine niedrigere Herzfrequenz haben. Erstelle dazu ein Array (https://www.python-kurs.eu/numpy_arrays_erzeugen.php). In diesem Array soll True stehen, wenn die Herzfrequenz des Hundes mit dem selben Index unter der Herzfrequenz liegt, False wenn drüber. Dieser Link könnte dir helfen: https://www.python-kurs.eu/python_numpy_maskierung.php"
   ]
  },
  {
   "cell_type": "code",
   "execution_count": null,
   "metadata": {
    "collapsed": true
   },
   "outputs": [],
   "source": [
    "def mean_heart_rate(D):\n",
    "\n",
    "    mhr = ...\n",
    "    # return mean heart (mhr) rate of all dogs\n",
    "    return mhr\n",
    "\n"
   ]
  },
  {
   "cell_type": "code",
   "execution_count": null,
   "metadata": {
    "collapsed": true
   },
   "outputs": [],
   "source": [
    "def below_mhr(D):\n",
    "    \n",
    "    num = number_of_dogs(D)\n",
    "    # initialize array with the length of number of dogs\n",
    "    below = numpy.ones((num), dtype=bool)\n",
    "    # Change values of array to True if dog's heart rate is below average, False if it is above\n",
    "    ...\n",
    "    # return an array with the length of number of dogs with boolean values\n",
    "    return below"
   ]
  }
 ],
 "metadata": {
  "kernelspec": {
   "display_name": "Python 2",
   "language": "python",
   "name": "python2"
  },
  "language_info": {
   "codemirror_mode": {
    "name": "ipython",
    "version": 2
   },
   "file_extension": ".py",
   "mimetype": "text/x-python",
   "name": "python",
   "nbconvert_exporter": "python",
   "pygments_lexer": "ipython2",
   "version": "2.7.13"
  },
  "varInspector": {
   "cols": {
    "lenName": 16,
    "lenType": 16,
    "lenVar": 40
   },
   "kernels_config": {
    "python": {
     "delete_cmd_postfix": "",
     "delete_cmd_prefix": "del ",
     "library": "var_list.py",
     "varRefreshCmd": "print(var_dic_list())"
    },
    "r": {
     "delete_cmd_postfix": ") ",
     "delete_cmd_prefix": "rm(",
     "library": "var_list.r",
     "varRefreshCmd": "cat(var_dic_list()) "
    }
   },
   "types_to_exclude": [
    "module",
    "function",
    "builtin_function_or_method",
    "instance",
    "_Feature"
   ],
   "window_display": false
  }
 },
 "nbformat": 4,
 "nbformat_minor": 2
}
