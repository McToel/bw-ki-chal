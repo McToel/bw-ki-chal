{
 "cells": [
  {
   "cell_type": "markdown",
   "metadata": {},
   "source": [
    "### Aufgabe 10\n",
    "\n",
    "Der Klassifikator, den du programmiert hast, ist absolut in seinen Entscheidungen. Für ihn gibt es nur absolute gesunde oder definitiv kranke Hunde. Bei den Ärztinnen und Ärzten, die die Hunde untersucht haben, war das natürlich anders. Bei vielen Entscheidung gab es gewisse Unsicherheiten, weil der Hund schwach wirkte, seine Werte aber gut waren – oder umgekehrt.\n",
    "\n",
    "Dieses Element wollen wir jetzt in unseren Klassifikator einbauen. Für den Arzt ist es wichtig zu wissen, mit welcher Wahrscheinlichkeit p der Klassifkiator den Hund als krank einstuft. Zum Beispiel hieße p = 0, die Software ist sich sehr sicher, dass mit dem Herzen des Hundes alles in Ordnung ist. P = 1 hieße dagegen, dass etwas ganz sicher nicht stimmt. Die Werte dazwischen stehen für die Unsicherheit: p = 0.5 hieße zum Beispiel, dass die Software die Situation nicht einschätzen kann. Hier müsste ein Arzt den Hund noch einmal genauer untersuchen.\n",
    "\n",
    "Damit die Software Wahrscheinlichkeiten berechnen kann, musst du eine sogenannte Sigmoid-Funktion programmieren. Die Sigmoid-Funktion bildet im Gegensatz zur Stufen-Funktion die Werte zwischen den Extremwerten kontinuierlich ab (https://www.researchgate.net/figure/Comparison-of-the-step-piecewise-linear-and-sigmoid-firing-rate-functions-Parameter_fig3_50518394):\n",
    "\n",
    "$$sigmoid(s) = \\frac{1}{1 + exp^{-s}}$$ .\n",
    "\n",
    "Statt zu testen ob heart_rate über oder unter einem bestimmten threshold liegt, nutzen wir nun die Distanz zwischen heart_rate und threshold, das heißt:\n",
    "$$p = sigmoid(heartrate - threshold)$$\n",
    "\n",
    "Wenn die heart_rate nahe dem threshold liegt und somit ein größere Unsicherheit vorliegt, ob der Hund nun gesund oder krank ist, gibt die Software eine Wahrscheinlichkeit von 0.5 aus. Je größer der Wert desto eher ist der Hund krank.\n",
    "\n",
    "Allgemeiner können wir schreiben: $$p = sigmoid(w * feature + b)$$\n",
    "\n",
    "Dabei steht der Parameter b für die Verschiebung („bias“) und w für das Gewicht („weight“) des untersuchten Faktors. Deine Aufgabe: Baue die Sigmoid-Funktion ein."
   ]
  },
  {
   "cell_type": "code",
   "execution_count": null,
   "metadata": {},
   "outputs": [],
   "source": [
    "import numpy as np\n",
    "\n",
    "# Daten laden\n",
    "D = np.load('data/train_data.npy')"
   ]
  },
  {
   "cell_type": "code",
   "execution_count": null,
   "metadata": {},
   "outputs": [],
   "source": [
    "def sigmoid(x):\n",
    "    \"\"\"Sigmoid Funktion\n",
    "    Args:\n",
    "        x : Floats auf das die Sigmoid Funktion angewandt wird\n",
    "\n",
    "    Return:\n",
    "         floats: transformierte Werte.\n",
    "    \"\"\"\n",
    "    sigm = # Dein Code hier\n",
    "    return sigm\n",
    "\n",
    "\n",
    "def p(x, w, b):\n",
    "    prob = # Dein Code hier\n",
    "    return prob"
   ]
  }
 ],
 "metadata": {
  "kernelspec": {
   "display_name": "Python 3",
   "language": "python",
   "name": "python3"
  },
  "language_info": {
   "codemirror_mode": {
    "name": "ipython",
    "version": 3
   },
   "file_extension": ".py",
   "mimetype": "text/x-python",
   "name": "python",
   "nbconvert_exporter": "python",
   "pygments_lexer": "ipython3",
   "version": "3.6.3"
  },
  "varInspector": {
   "cols": {
    "lenName": 16,
    "lenType": 16,
    "lenVar": 40
   },
   "kernels_config": {
    "python": {
     "delete_cmd_postfix": "",
     "delete_cmd_prefix": "del ",
     "library": "var_list.py",
     "varRefreshCmd": "print(var_dic_list())"
    },
    "r": {
     "delete_cmd_postfix": ") ",
     "delete_cmd_prefix": "rm(",
     "library": "var_list.r",
     "varRefreshCmd": "cat(var_dic_list()) "
    }
   },
   "types_to_exclude": [
    "module",
    "function",
    "builtin_function_or_method",
    "instance",
    "_Feature"
   ],
   "window_display": false
  }
 },
 "nbformat": 4,
 "nbformat_minor": 2
}
