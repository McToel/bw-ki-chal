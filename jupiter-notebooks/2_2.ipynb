{
 "cells": [
  {
   "cell_type": "markdown",
   "metadata": {},
   "source": [
    "### Aufgabe 2\n",
    "\n",
    "_Okay, lass uns tiefer in den Datensatz eintauchen. Du solltest die Daten gut kennen, bevor wir anfangen, damit zu arbeiten: Eine Pflegerin würde gern von dir wissen, was die mittlere Herzfrequenz aller Hunde war. Ein kleiner Tipp: Du kannst dafür den Befehl np.mean aus der numpy-Bibliothek verwenden._"
   ]
  },
  {
   "cell_type": "code",
   "execution_count": null,
   "metadata": {
    "collapsed": true
   },
   "outputs": [],
   "source": [
    "import numpy as np\n",
    "\n",
    "# Daten laden\n",
    "D = np.load('data/train_data.npy')"
   ]
  },
  {
   "cell_type": "markdown",
   "metadata": {},
   "source": [
    "In der nächsten Zelle siehst du eine Funktion. Dieser Funktion musst du einen Input $D$ übergeben, und sie sollte die mittlere Herzfrequenz als Wert zurück geben (dafür steht das _return_)."
   ]
  },
  {
   "cell_type": "code",
   "execution_count": null,
   "metadata": {
    "collapsed": true
   },
   "outputs": [],
   "source": [
    "def mean_heart_rate(D):\n",
    "    \"\"\"Arithmetisches Mittel der Herzfrequenzen aller Hunde.\n",
    "\n",
    "    Args:\n",
    "        D (numpy.ndarray): Datenmatrix:\n",
    "            - pro Hund eine Zeile (erster Index)\n",
    "            - pro Eigenschaft eine Spalte (zweiter Index)\n",
    "\n",
    "    Returns:\n",
    "        float: Mittlere Herzfrequenz\n",
    "    \"\"\"\n",
    "    mhr = # ADD YOUR CODE HERE\n",
    "    return mhr"
   ]
  },
  {
   "cell_type": "markdown",
   "metadata": {},
   "source": [
    "Du kannst den Wert der Funktion erhalten, in dem du sie wie folgt aufrufst:"
   ]
  },
  {
   "cell_type": "code",
   "execution_count": null,
   "metadata": {
    "collapsed": true
   },
   "outputs": [],
   "source": [
    "print(mean_heart_rate(D))"
   ]
  },
  {
   "cell_type": "markdown",
   "metadata": {},
   "source": [
    "Wenn alles passt, kannst du die Funktion einfach in das Code Feld vom Wettbewerb eintragen."
   ]
  },
  {
   "cell_type": "markdown",
   "metadata": {
    "collapsed": true
   },
   "source": [
    "Wenn du noch weiter üben möchtest, kannst du gern folgende Zusatz-Aufgaben lösen:"
   ]
  },
  {
   "cell_type": "markdown",
   "metadata": {},
   "source": [
    "Eine Pflegerin würde gern wissen, welcher Hund am ältesten und welcher am jüngsten ist und wie groß der Altersunterschied zwischen den Hunden ist. Kannst du die Pfleger außerdem darin unterstützen, sofort alle Daten zu einem Hund zu bekommen, indem sie nur den Index, also den Namen des Hundes eingeben (features_dog())?"
   ]
  },
  {
   "cell_type": "code",
   "execution_count": 1,
   "metadata": {},
   "outputs": [
    {
     "ename": "IndentationError",
     "evalue": "unexpected indent (<ipython-input-1-58e6f9d3889d>, line 12)",
     "output_type": "error",
     "traceback": [
      "\u001b[1;36m  File \u001b[1;32m\"<ipython-input-1-58e6f9d3889d>\"\u001b[1;36m, line \u001b[1;32m12\u001b[0m\n\u001b[1;33m    oldest = ...\u001b[0m\n\u001b[1;37m    ^\u001b[0m\n\u001b[1;31mIndentationError\u001b[0m\u001b[1;31m:\u001b[0m unexpected indent\n"
     ]
    }
   ],
   "source": [
    "def oldest_dog(D):\n",
    "  \"\"\"Ältester Hund\n",
    "    Args:\n",
    "        D (numpy.ndarray): Datenmatrix:\n",
    "            - pro Hund eine Zeile (erster Index)\n",
    "            - pro Eigenschaft eine Spalte (zweiter Index)\n",
    "        index: number of dogs (dogs do not have names, only indexes, in this dataframe)\n",
    "    Returns:\n",
    "        Alter des ältesten Hundes\n",
    "        index des ältesten Hundes\n",
    "    \"\"\"\n",
    "    oldest = ...\n",
    "    dog = ...\n",
    "    # return the age and the index of the oldest dog\n",
    "    return oldest, dog"
   ]
  },
  {
   "cell_type": "code",
   "execution_count": 2,
   "metadata": {},
   "outputs": [
    {
     "ename": "SyntaxError",
     "evalue": "invalid syntax (<ipython-input-2-9e39619ee1ac>, line 2)",
     "output_type": "error",
     "traceback": [
      "\u001b[1;36m  File \u001b[1;32m\"<ipython-input-2-9e39619ee1ac>\"\u001b[1;36m, line \u001b[1;32m2\u001b[0m\n\u001b[1;33m    youngest = ...\u001b[0m\n\u001b[1;37m               ^\u001b[0m\n\u001b[1;31mSyntaxError\u001b[0m\u001b[1;31m:\u001b[0m invalid syntax\n"
     ]
    }
   ],
   "source": [
    "def youngest_dog(D):\n",
    "    youngest = ...\n",
    "    dog = ...\n",
    "    # return the age and the index of the oldest dog\n",
    "    return youngest, dog\n",
    "\n"
   ]
  },
  {
   "cell_type": "code",
   "execution_count": 3,
   "metadata": {},
   "outputs": [
    {
     "ename": "SyntaxError",
     "evalue": "invalid syntax (<ipython-input-3-6cad8b7caf51>, line 4)",
     "output_type": "error",
     "traceback": [
      "\u001b[1;36m  File \u001b[1;32m\"<ipython-input-3-6cad8b7caf51>\"\u001b[1;36m, line \u001b[1;32m4\u001b[0m\n\u001b[1;33m    oldest = ...\u001b[0m\n\u001b[1;37m             ^\u001b[0m\n\u001b[1;31mSyntaxError\u001b[0m\u001b[1;31m:\u001b[0m invalid syntax\n"
     ]
    }
   ],
   "source": [
    "def difference_dogs(D):\n",
    "    \n",
    "    youngest, index = youngest_dog(D)\n",
    "    oldest = ...\n",
    "    diff = ...\n",
    "    # return the difference between the ages of the oldest and the youngest dog\n",
    "    return diff\n",
    "    \n"
   ]
  },
  {
   "cell_type": "code",
   "execution_count": 4,
   "metadata": {},
   "outputs": [
    {
     "ename": "IndentationError",
     "evalue": "unindent does not match any outer indentation level (<ipython-input-4-c9ed726d9680>, line 11)",
     "output_type": "error",
     "traceback": [
      "\u001b[1;36m  File \u001b[1;32m\"<ipython-input-4-c9ed726d9680>\"\u001b[1;36m, line \u001b[1;32m11\u001b[0m\n\u001b[1;33m    dog = ...\u001b[0m\n\u001b[1;37m             ^\u001b[0m\n\u001b[1;31mIndentationError\u001b[0m\u001b[1;31m:\u001b[0m unindent does not match any outer indentation level\n"
     ]
    }
   ],
   "source": [
    "def features_dog(D, index):\n",
    "        \"\"\"Merkmale eines Hundes\n",
    "    Args:\n",
    "        D (numpy.ndarray): Datenmatrix:\n",
    "            - pro Hund eine Zeile (erster Index)\n",
    "            - pro Eigenschaft eine Spalte (zweiter Index)\n",
    "        index: number of dogs (dogs do not have names, only indexes, in this dataframe)\n",
    "    Returns:\n",
    "        array: features of one dog with that index\n",
    "    \"\"\"\n",
    "    dog = ...\n",
    "    # return an array of all features of one dog\n",
    "    return dog"
   ]
  },
  {
   "cell_type": "code",
   "execution_count": null,
   "metadata": {
    "collapsed": true
   },
   "outputs": [],
   "source": [
    "\n"
   ]
  }
 ],
 "metadata": {
  "kernelspec": {
   "display_name": "Python 2",
   "language": "python",
   "name": "python2"
  },
  "language_info": {
   "codemirror_mode": {
    "name": "ipython",
    "version": 2
   },
   "file_extension": ".py",
   "mimetype": "text/x-python",
   "name": "python",
   "nbconvert_exporter": "python",
   "pygments_lexer": "ipython2",
   "version": "2.7.13"
  },
  "varInspector": {
   "cols": {
    "lenName": 16,
    "lenType": 16,
    "lenVar": 40
   },
   "kernels_config": {
    "python": {
     "delete_cmd_postfix": "",
     "delete_cmd_prefix": "del ",
     "library": "var_list.py",
     "varRefreshCmd": "print(var_dic_list())"
    },
    "r": {
     "delete_cmd_postfix": ") ",
     "delete_cmd_prefix": "rm(",
     "library": "var_list.r",
     "varRefreshCmd": "cat(var_dic_list()) "
    }
   },
   "types_to_exclude": [
    "module",
    "function",
    "builtin_function_or_method",
    "instance",
    "_Feature"
   ],
   "window_display": false
  }
 },
 "nbformat": 4,
 "nbformat_minor": 2
}
