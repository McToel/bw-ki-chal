{
 "cells": [
  {
   "cell_type": "markdown",
   "metadata": {},
   "source": [
    "Okay, hat es da jemand zu gut gemeint? Das wollen wir jetzt prüfen! Erinnerst du dich? Bei den Quiz-Fragen hast du dich schon mal mit dem Begriff Overfitting (Überanpassung) beschäftigt – ein wichtiges Konzept im Bereich des Maschinellen Lernens. Es hilft dir dabei herauszufinden, ob ein multivariates Modell nur für die Daten aussagekräftig ist, auf denen die Parameter angepasst wurden. Bekommt das Modell neue Daten, kann es sein, dass es komplett falsche Ergebnisse liefert. Es generalisiert dann nicht.\n",
    "\n",
    "In unserem Fall könnte es sein, dass der Klassifizierer zwar ganz gute Ergebnisse für die Hunde liefert, die wir bisher diagnostiziert haben. Sobald aber eine andere Hunderasse ins Tierheim kommt, wäre es möglich, dass der Algorithmus Fehler macht. Um das auszuschließen, musst du dein Modell auf einen Teil der vorhandenen Daten trainieren – und es dann anhand der restlichen Daten testen. Erst dann weißt du, wie gut das Modell die Gesundheit von neuen Hunden vorhersagen kann.\n",
    "\n",
    "Also, lass uns loslegen: Am besten teilst du den Datensatz in einen Trainingsdatensatz, auf dem wir das Modell trainieren, und einen Testdatensatz, auf dem wir das Modell testen. Beachte: Wichtig ist, dass unser Modell während des Trainings – also während die Parameter optimiert werden – kein Zugriff auf die Testdaten hat. Nur dann können wir anhand der des Testdatensatzes herausfinden, wie gut das Modell Vorhersagen für neue Daten trifft.\n",
    "\n",
    "Teile jetzt die Daten in einen Trainings- und einen Testdatensatz auf. Nimm am besten die ersten 80% aller Daten für das Training, die restlichen 20% für den Testdatensatz.\n",
    "\n",
    "Diese Daten werden wir in den nächsten zwei Aufgaben benutzen, um deinen Algorithmus in einem professionellen Framework für Maschinelles Lernen (Pytorch) umzusetzen. Diese Aufgaben werden wir in den nächsten Tagen aktivieren. Danach bist du auch bereit für die Challenge.\n",
    "\n",
    "*Das Notebook zu dieser Aufgabe findest du auf [Binder](https://mybinder.org/v2/gh/bethgelab/bwki-notebooks/master?filepath=4_1.ipynb). Es braucht manchmal etwas Zeit, bis das Notebook geladen ist. Darauf haben wir leider keinen Einfluss. Alternativ kannst du das Notebook auch in unserem [Github Repository](https://github.com/bethgelab/bwki-notebooks) herunterladen und lokal ausführen ([Anleitung](https://fizban05.rz.tu-harburg.de/itbh-inf-wise201718/veranstaltungsskript-inf-wise201718/material/sitzungsmaterial/einrichtung-byod-python.html)).*\n"
   ]
  },
  {
   "cell_type": "code",
   "execution_count": null,
   "metadata": {},
   "outputs": [],
   "source": [
    "import numpy as np\n",
    "\n",
    "D = np.load('data/train_data.npy')"
   ]
  },
  {
   "cell_type": "code",
   "execution_count": null,
   "metadata": {},
   "outputs": [],
   "source": [
    "def train_test_split(D):\n",
    "    train_data = ...\n",
    "    test_data = ...\n",
    "    return train_data, test_data\n"
   ]
  }
 ],
 "metadata": {
  "kernelspec": {
   "display_name": "Python 3",
   "language": "python",
   "name": "python3"
  },
  "language_info": {
   "codemirror_mode": {
    "name": "ipython",
    "version": 3
   },
   "file_extension": ".py",
   "mimetype": "text/x-python",
   "name": "python",
   "nbconvert_exporter": "python",
   "pygments_lexer": "ipython3",
   "version": "3.7.2"
  }
 },
 "nbformat": 4,
 "nbformat_minor": 2
}
