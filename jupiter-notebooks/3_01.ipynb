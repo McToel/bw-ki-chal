{
 "cells": [
  {
   "cell_type": "markdown",
   "metadata": {},
   "source": [
    "### Aufgabe 6\n",
    "\n",
    "_In dem Datensatz über die Hunde wurde der Gesundheitszustand „gesund“ oder „krank“ von Ärztinnen und Ärzten ermittelt. Deine Software soll jetzt aber Aussagen über neue Hunde treffen. Dabei stützt sie sich auf die bestehenden Diagnosen. Man nennt das in der Fachsprache einen Klassifikator: Er versucht auf Basis der vorliegenden Werte ein Klassenlabel („gesund\" oder „krank“) vorherzusagen._\n",
    "\n",
    "_Bist du bereit? Dann lass uns mit dem einfachsten Klassifizierer starten: dem sogenannten zufälligen Klassifikator (random classifier). Für jede Eingabe erstellt er ein zufälliges Label. Einen zufälligen Klassifizierer könntest du wie folgt implementieren:_\n",
    "\n",
    "```python\n",
    "def classifier(features):\n",
    "    c = np.random.randint(2)  # ziehe zufaellig 0 oder 1\n",
    "    return c\n",
    "```\n",
    "\n",
    "_Hier deine Aufgabe: Du weißt, dass die eine Hälfte der Hunde des Trainingssets krank und die andere Hälfte gesund ist. Indivduell können wir aber nicht entscheiden ob ein Hund krank oder gesund ist. Kannst Du einen konservativen Klassifikator schreiben, der alle Hunde als „krank“ klassifiziert?_\n",
    "\n",
    "_Wenn du dich noch weiter mit dem Thema beschäftigen willst, kannst du hier weiter lesen:_\n",
    "\n",
    "numpy.random.randint(): https://docs.scipy.org/doc/numpy/reference/generated/numpy.random.randint.html"
   ]
  },
  {
   "cell_type": "code",
   "execution_count": null,
   "metadata": {
    "collapsed": true
   },
   "outputs": [],
   "source": [
    "import numpy as np\n",
    "\n",
    "# Daten laden\n",
    "D = np.load('data/train_data.npy')"
   ]
  },
  {
   "cell_type": "code",
   "execution_count": null,
   "metadata": {
    "code_folding": [],
    "collapsed": true
   },
   "outputs": [],
   "source": [
    "def constant_classifier(features):\n",
    "    \"\"\"Klassifiziert jeden Hund als krank.\n",
    "\n",
    "    Args:\n",
    "        features (numpy.ndarray): Vektor mit den Eigenschaften eines Hundes:\n",
    "            - pro Eigenschaft ein Wert\n",
    "\n",
    "    Returns:\n",
    "        int: 0 bedeutet, der Hund ist gesund,\n",
    "            1 bedeutet, der Hund ist krank.\n",
    "    \"\"\"\n",
    "    c = # ADD YOUR CODE HERE\n",
    "    return c"
   ]
  },
  {
   "cell_type": "markdown",
   "metadata": {},
   "source": [
    "Die folgende Schleife (mehr Infos: https://www.python-kurs.eu/for-schleife.php) zeigt dir die Klassifikation der ersten zehn Hunde an."
   ]
  },
  {
   "cell_type": "code",
   "execution_count": null,
   "metadata": {
    "collapsed": true
   },
   "outputs": [],
   "source": [
    "for k, feature in enumerate(D[:10]):\n",
    "    print(f'Der {k}te Hund wird von deinem Klassifikator als {constant_classifier(feature)} klassifiziert')"
   ]
  },
  {
   "cell_type": "markdown",
   "metadata": {},
   "source": [
    "Wenn du noch weiter üben möchtest, kannst du gern die folgenden Zusatz-Aufgaben lösen:"
   ]
  },
  {
   "cell_type": "markdown",
   "metadata": {},
   "source": [
    "Implementiere nun verschiedene weitere Klassifikatoren. Nach welchen Merkmalen kannst du die Hunde noch in gesund und krank einteilen?"
   ]
  },
  {
   "cell_type": "code",
   "execution_count": 2,
   "metadata": {},
   "outputs": [],
   "source": [
    "def random_classifier(features):\n",
    "    c = ...\n",
    "    # return randomly that the dog is sick or healthy\n",
    "    return c\n",
    "\n"
   ]
  },
  {
   "cell_type": "code",
   "execution_count": null,
   "metadata": {
    "collapsed": true
   },
   "outputs": [],
   "source": [
    "def heart_rate_classifier(features):\n",
    "    # hint: What is the decission criterion between healthy and sick?\n",
    "    # remember that you calculated mean heart rates in the previous task\n",
    "\n",
    "    c = ...\n",
    "    # return if dog is sick or healthy according to the heart_rate\n",
    "    return c"
   ]
  }
 ],
 "metadata": {
  "kernelspec": {
   "display_name": "Python 2",
   "language": "python",
   "name": "python2"
  },
  "language_info": {
   "codemirror_mode": {
    "name": "ipython",
    "version": 2
   },
   "file_extension": ".py",
   "mimetype": "text/x-python",
   "name": "python",
   "nbconvert_exporter": "python",
   "pygments_lexer": "ipython2",
   "version": "2.7.13"
  },
  "varInspector": {
   "cols": {
    "lenName": 16,
    "lenType": 16,
    "lenVar": 40
   },
   "kernels_config": {
    "python": {
     "delete_cmd_postfix": "",
     "delete_cmd_prefix": "del ",
     "library": "var_list.py",
     "varRefreshCmd": "print(var_dic_list())"
    },
    "r": {
     "delete_cmd_postfix": ") ",
     "delete_cmd_prefix": "rm(",
     "library": "var_list.r",
     "varRefreshCmd": "cat(var_dic_list()) "
    }
   },
   "types_to_exclude": [
    "module",
    "function",
    "builtin_function_or_method",
    "instance",
    "_Feature"
   ],
   "window_display": false
  }
 },
 "nbformat": 4,
 "nbformat_minor": 2
}
