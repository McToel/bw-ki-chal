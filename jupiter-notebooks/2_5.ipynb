{
 "cells": [
  {
   "cell_type": "markdown",
   "metadata": {},
   "source": [
    "### Aufgabe 5\n",
    "\n",
    "_Interessant! Aber noch interessanter wird es, wenn wir uns mal ansehen, welchen Unterschied es in den mittleren Herzfrequenzen zwischen den gesunden und kranken Hunden gab. Kannst du das herausfinden?_"
   ]
  },
  {
   "cell_type": "code",
   "execution_count": null,
   "metadata": {},
   "outputs": [],
   "source": [
    "import numpy as np\n",
    "\n",
    "# Daten laden\n",
    "D = np.load('data/train_data.npy')"
   ]
  },
  {
   "cell_type": "code",
   "execution_count": null,
   "metadata": {},
   "outputs": [],
   "source": [
    "def difference_average_heart_rate(D):\n",
    "    \"\"\"Differenz der mittleren Herzfrequenzen kranker und gesunder Hunde.\n",
    "\n",
    "    Args:\n",
    "        D (numpy.ndarray): Datenmatrix:\n",
    "            - pro Hund eine Zeile (erster Index)\n",
    "            - pro Eigenschaft eine Spalte (zweiter Index)\n",
    "\n",
    "    Returns:\n",
    "        float: Differenz der mittleren Herzfrequenzen\n",
    "    \"\"\"\n",
    "    ahr_diff = # ADD YOUR CODE HERE\n",
    "    return ahr_diff"
   ]
  },
  {
   "cell_type": "code",
   "execution_count": null,
   "metadata": {},
   "outputs": [],
   "source": [
    "print(difference_average_heart_rate(D))"
   ]
  }
 ],
 "metadata": {
  "kernelspec": {
   "display_name": "Python 3",
   "language": "python",
   "name": "python3"
  },
  "language_info": {
   "codemirror_mode": {
    "name": "ipython",
    "version": 3
   },
   "file_extension": ".py",
   "mimetype": "text/x-python",
   "name": "python",
   "nbconvert_exporter": "python",
   "pygments_lexer": "ipython3",
   "version": "3.6.3"
  },
  "varInspector": {
   "cols": {
    "lenName": 16,
    "lenType": 16,
    "lenVar": 40
   },
   "kernels_config": {
    "python": {
     "delete_cmd_postfix": "",
     "delete_cmd_prefix": "del ",
     "library": "var_list.py",
     "varRefreshCmd": "print(var_dic_list())"
    },
    "r": {
     "delete_cmd_postfix": ") ",
     "delete_cmd_prefix": "rm(",
     "library": "var_list.r",
     "varRefreshCmd": "cat(var_dic_list()) "
    }
   },
   "types_to_exclude": [
    "module",
    "function",
    "builtin_function_or_method",
    "instance",
    "_Feature"
   ],
   "window_display": false
  }
 },
 "nbformat": 4,
 "nbformat_minor": 2
}
