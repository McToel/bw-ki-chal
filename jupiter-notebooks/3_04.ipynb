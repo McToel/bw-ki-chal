{
 "cells": [
  {
   "cell_type": "markdown",
   "metadata": {},
   "source": [
    "### Aufgabe 9\n",
    "\n",
    "_Jetzt zünden wir die nächste Stufe! Eben haben wir uns auf ein Merkmal – die Herzfrequenz der Hunde – beschränkt. Lass uns doch mal einen Blick auf zwei verschiedene Merkmale der geretteten Straßenhunde werfen. Dafür musst du wissen, wie man Informationen aus zwei Merkmalen kombinieren kann: Schau dir den Klassifikator mit einem Merkmal nochmal an. Du hättest ihn so bauen können:_\n",
    "\n",
    "```python\n",
    "if heart_rate > threshold:\n",
    "    class = 1  # pathologic\n",
    "else:\n",
    "    class = 0  # normal\n",
    "```\n",
    "\n",
    "_Das bedeutet: Wenn die Herzfrequenz über einem bestimmten Schwellenwert liegt, sagt der Klassifikator voraus, dass der Hund „krank“ ist. In allen anderen Fällen klassifiziert er „gesund“._\n",
    "\n",
    "_Nehmen wir mal an, du wolltest die Funktionsfähigkeit des Herzens als weiteres Merkmal für die Klassifizierung verwenden. Dann könntest du dafür einen ähnlichen Ansatz verwenden – nur mit der linearen Kombination aus der Herzfrequenz (8. Merkmal) und der ST-Senkung des EKGs (10. Merkmal). Implementiere einen linearen Klassifikator der sowohl die Herzfrequenz als auch die ST-Senkung verwendet._\n",
    "\n",
    "_Optionale Zusatzaufgabe: Kannst du Parameter `w1`, `w2` und `threshold` finden so dass der Klassifikator eine hohe Accuracy erreicht?_"
   ]
  },
  {
   "cell_type": "code",
   "execution_count": null,
   "metadata": {},
   "outputs": [],
   "source": [
    "import numpy as np\n",
    "\n",
    "# Daten laden\n",
    "D = np.load('data/train_data.npy')"
   ]
  },
  {
   "cell_type": "code",
   "execution_count": null,
   "metadata": {},
   "outputs": [],
   "source": [
    "def classifier(features, w1=# DEIN WERT, w2= # DEIN WERT, threshold=# DEIN WERT):\n",
    "    \"\"\"Klassifiziert jeden Hunde anhand der Herzfrequenz.\n",
    "\n",
    "        Args:\n",
    "            features (numpy.ndarray): Vektor mit den Eigenschaften eines Hundes:\n",
    "                - pro Eigenschaft ein Wert\n",
    "            w1 (float): Gewichtet die Herzfrequenz.\n",
    "            w2 (float): Gewichtet die ST Depression.\n",
    "            threshold (float): Grenzwert zum unterscheiden des Gesundheitszustands.\n",
    "\n",
    "        Returns:\n",
    "            int: 0 bedeutet, der Hund ist gesund,\n",
    "                1 bedeutet, der Hund ist krank.\n",
    "        \"\"\"\n",
    "    c = ...\n",
    "    return c"
   ]
  },
  {
   "cell_type": "markdown",
   "metadata": {},
   "source": [
    "Fange am besten mit Werten w1, w2 und threshold an, die dem einfachen Klassifizierer mit der Herzfrequenz entsprechen. Von dort aus kannst du dann die Werte variieren um noch bessere Ergebnisse zu erhalten. Messe dann die Performanz deines Klassifikators mithilfe der Funktion aus Aufgabe 7. Du solltest mindestens 74% erreichen."
   ]
  }
 ],
 "metadata": {
  "kernelspec": {
   "display_name": "Python 3",
   "language": "python",
   "name": "python3"
  },
  "language_info": {
   "codemirror_mode": {
    "name": "ipython",
    "version": 3
   },
   "file_extension": ".py",
   "mimetype": "text/x-python",
   "name": "python",
   "nbconvert_exporter": "python",
   "pygments_lexer": "ipython3",
   "version": "3.6.3"
  },
  "varInspector": {
   "cols": {
    "lenName": 16,
    "lenType": 16,
    "lenVar": 40
   },
   "kernels_config": {
    "python": {
     "delete_cmd_postfix": "",
     "delete_cmd_prefix": "del ",
     "library": "var_list.py",
     "varRefreshCmd": "print(var_dic_list())"
    },
    "r": {
     "delete_cmd_postfix": ") ",
     "delete_cmd_prefix": "rm(",
     "library": "var_list.r",
     "varRefreshCmd": "cat(var_dic_list()) "
    }
   },
   "types_to_exclude": [
    "module",
    "function",
    "builtin_function_or_method",
    "instance",
    "_Feature"
   ],
   "window_display": false
  }
 },
 "nbformat": 4,
 "nbformat_minor": 2
}
