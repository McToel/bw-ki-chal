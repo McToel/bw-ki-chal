{
 "cells": [
  {
   "cell_type": "markdown",
   "metadata": {},
   "source": [
    "### Aufgabe 17\n",
    "\n",
    "Jetzt haben wir nur noch ein Ziel: Genauer werden. Und noch genauer. Und noch genauer. Schließlich geht es um die Gesundheit der Streuner. Wir müssen unser Modell mit dem Gradientenverfahren also weiter verbessern, bis wir mit der Genauigkeit zufrieden sind. Aber wann können wir zufrieden sein? Je länger das Modell trainiert, desto genauer wird es. Irgendwann kann es nicht mehr genauer werden. Und das ist der Punkt an dem wir aufhören können, unsere Parameter zu verbessern. Du kannst also nach jedem Schritt schauen, wie stark sich die Kosten des Gradientenverfahrens verringert haben. Wenn es keinen Unterschied mehr gibt, können wir den Algorithmus beenden (Abbruchbedingung).\n",
    "\n",
    "Deine nächste Aufgabe ist es, eine Schleife einzubauen, in der du bei jeder Wiederholung ein Schritt des Gradientenverfahrens durchführst. Führe sie solange aus, bis deine Abbruchbedingung erfüllt ist. Damit du nicht in einer Endlos-Schleife hängen bleibst, nutzt du am besten eine for-Schleife mit einer maximale Anzahl von Schritten."
   ]
  },
  {
   "cell_type": "code",
   "execution_count": null,
   "metadata": {},
   "outputs": [],
   "source": [
    "import numpy as np\n",
    "\n",
    "# Daten laden\n",
    "D = np.load('data/train_data.npy')"
   ]
  },
  {
   "cell_type": "code",
   "execution_count": null,
   "metadata": {},
   "outputs": [],
   "source": [
    "def sigmoid(x):\n",
    "    s = ...\n",
    "    return s\n",
    "\n",
    "def h(X, w):\n",
    "    v = ...\n",
    "    return v\n",
    "\n",
    "def derivative(X, Y, w):\n",
    "    d = ...\n",
    "    return d\n",
    "\n",
    "def accuracy(Y, Y_hat):\n",
    "    return ...\n",
    "\n",
    "def cost(predictions, labels):\n",
    "    c = ...\n",
    "    return c\n",
    "\n",
    "def step(X, w, alpha):\n",
    "    w_new = ...\n",
    "    return w_new\n",
    "\n",
    "\n",
    "def optimize():\n",
    "    w = np.ones(14)\n",
    "    alpha = 0.001\n",
    "\n",
    "    ...\n",
    "    w = ...\n",
    "    return w"
   ]
  }
 ],
 "metadata": {
  "kernelspec": {
   "display_name": "Python 3",
   "language": "python",
   "name": "python3"
  },
  "language_info": {
   "codemirror_mode": {
    "name": "ipython",
    "version": 3
   },
   "file_extension": ".py",
   "mimetype": "text/x-python",
   "name": "python",
   "nbconvert_exporter": "python",
   "pygments_lexer": "ipython3",
   "version": "3.6.3"
  },
  "varInspector": {
   "cols": {
    "lenName": 16,
    "lenType": 16,
    "lenVar": 40
   },
   "kernels_config": {
    "python": {
     "delete_cmd_postfix": "",
     "delete_cmd_prefix": "del ",
     "library": "var_list.py",
     "varRefreshCmd": "print(var_dic_list())"
    },
    "r": {
     "delete_cmd_postfix": ") ",
     "delete_cmd_prefix": "rm(",
     "library": "var_list.r",
     "varRefreshCmd": "cat(var_dic_list()) "
    }
   },
   "types_to_exclude": [
    "module",
    "function",
    "builtin_function_or_method",
    "instance",
    "_Feature"
   ],
   "window_display": false
  }
 },
 "nbformat": 4,
 "nbformat_minor": 2
}
