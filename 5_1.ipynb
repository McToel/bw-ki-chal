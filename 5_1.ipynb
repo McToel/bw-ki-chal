{
 "cells": [
  {
   "cell_type": "markdown",
   "metadata": {},
   "source": [
    "Challenge!!!\n",
    "\n",
    "Du hast in den vorherigen Aufgaben viele Methoden des maschinellen Lernens kennen gelernt. In dieser Challenge kannst du zeigen, was du drauf hast! Entwickle ein neuronales Netzwerk, dass die Hunde als krank oder gesund diagnostiziert. In der Bestenliste kannst du sehen\\\n",
    ", wie gut dein Netzwerk im Vergleich zu den anderen Teilnehmern abschneidet. Kannst du eine bessere Genauigkeit erzielen? Eure Anstrengung wird sich lohnen: Die besten Teams ziehen - unabhängig von den erreichten Punkten in den Aufgaben oder die vorgeschlagene Idee - in\\\n",
    " die zweite Runde ein!\n",
    "\n",
    "Die Bestenliste findest du auf der Startseite mit den verschiedenen Aufgabentypen in der oberen Zeile.\n",
    "\n",
    "Am Besten fängst du mit einem einfachen Netzwerk an und veränderst es. Dabei solltest du immer auch Over- und Underfitting im Auge\n",
    "behalten. Du hast viele Möglichkeiten das Netzwerk oder die Optimierung anzupassen:\n",
    "\n",
    " - Anzahl der Layer\n",
    " - Anzahl der Neuronen pro Layer\n",
    " - Regularisierung (Dropout, weight decay)\n",
    " - Unterschiedlieche Optimierer (Adam, SGD, ...)\n",
    " - Learning rate decay\n",
    " - Early stopping\n",
    " - Andere non-linearities\n",
    " - Normalisierung\n"
   ]
  },
  {
   "cell_type": "code",
   "execution_count": null,
   "metadata": {},
   "outputs": [],
   "source": [
    "import torch\n",
    "import numpy as np\n",
    "import torch.nn as nn\n",
    "import matplotlib.pyplot as plt\n",
    "\n",
    "# Daten laden\n",
    "D = np.load('data/challenge_D_train.npy')"
   ]
  },
  {
   "cell_type": "code",
   "execution_count": null,
   "metadata": {},
   "outputs": [],
   "source": [
    "def train(D):\n",
    "\n",
    "    input_size = 13\n",
    "    output_size = 1\n",
    "\n",
    "    # Definition des Modells                                                                                                                                                                                                                                                   \n",
    "    class Model(nn.Module):\n",
    "        def __init__(self, input_size):\n",
    "            super().__init__()\n",
    "            ...\n",
    "\n",
    "        # Diese funktion muss implementiert werden, da sie zur evaluation benutzt wird.                                                                                                                                                                                        \n",
    "        def forward(self, x):\n",
    "            ...\n",
    "            return out\n",
    "\n",
    "    model = Model(input_size)\n",
    "\n",
    "    # Loss, Optimierer, Training                                                                                                                                                                                                                                               \n",
    "    ...\n",
    "\n",
    "    # Zurueckgeben, dess trainierten Modells damit wir es evaluieren koennen                                                                                                                                                                                                   \n",
    "    return model\n"
   ]
  }
 ],
 "metadata": {
  "kernelspec": {
   "display_name": "Python 3",
   "language": "python",
   "name": "python3"
  },
  "language_info": {
   "codemirror_mode": {
    "name": "ipython",
    "version": 3
   },
   "file_extension": ".py",
   "mimetype": "text/x-python",
   "name": "python",
   "nbconvert_exporter": "python",
   "pygments_lexer": "ipython3",
   "version": "3.7.2"
  }
 },
 "nbformat": 4,
 "nbformat_minor": 2
}
