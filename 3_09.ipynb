{
 "cells": [
  {
   "cell_type": "markdown",
   "metadata": {},
   "source": [
    "### Aufgabe 14\n",
    "\n",
    "_Beim Ausprobieren der Parameter ist dir bestimmt schon aufgefallen, dass das manchmal gar nicht so einfach ist: du machst eine Änderung in den Gewichten, aber die Klassifikationsrate ändert sich gar nicht. Wie soll man da wissen, ob die Änderung gut oder schlecht war?_\n",
    "\n",
    "_Bei diesem Problem helfen uns die Wahrscheinlichkeiten: Wird ein Datenpunkt falsch klassifiziert, macht es einen Unterschied, wie sicher sich das Modell war. Wenn es sich nicht wirklich sicher war, dann kann es schon mal passieren, dass es die falsche Diagnose wählt. War es sich jedoch ganz sicher, dass der Hund gesund ist, aber der Hund jedoch krank ist, dann ist der Fehler schon schwerwiegender._\n",
    "\n",
    "_Das können wir mithilfe einer sogenannten Kostenfunktion berücksichtigen:_\n",
    "\n",
    "$$L = - y * log p(x, w) - (1 - y) log(1 - p(x, w))$$\n",
    "\n",
    "_Zur Erklärung: $y$ ist der Gesundheitszustand, er zeigt $0$ für „gesund“ und $1$ für „krank“ an. In der Fachsprache wird $y$ im Allgemeinen als Label bezeichnet. Durch das Label kann man die Samples, in unserem Fall sind das die Hunde, einer Klasse (gesund oder krank) zuordnen._\n",
    "\n",
    "_Lass uns die Beispiele mal durchgehen. Nehmen wir an, $y = 1$. Wenn $p(x, w) = 1$, dann ist $log p(x, w) = 0$, d.h. der erste Term ist ebenso wie der zweite Term Null (weil $1 - y = 0$). Wenn aber $y = 0$, dann ist der erste Term Null, der zweite aber unendlich._\n",
    "\n",
    "_Unsere Kostenfunktion ist also klein, wenn unsere Vorhersage gut ist und groß, wenn sie schlecht ist. Jetzt zu deiner Aufgabe: Baue die Kostenfunktion ein und versuche, die beiden Gewichte und den Bias weiter zu optimieren. Kannst du noch besser werden?_"
   ]
  },
  {
   "cell_type": "code",
   "execution_count": 1,
   "metadata": {},
   "outputs": [],
   "source": [
    "import numpy as np\n",
    "\n",
    "# Daten laden\n",
    "D = np.load('data/train_data.npy')"
   ]
  },
  {
   "cell_type": "code",
   "execution_count": null,
   "metadata": {},
   "outputs": [],
   "source": [
    "def cost(predictions, labels):\n",
    "    \"\"\"Kostenfunktion.\n",
    "    \n",
    "    Args:\n",
    "        predictions (numpy.ndarray): Vektor mit den Wahrscheinlichkeiten für jeden Hund\n",
    "        labels (numpy.ndarray): Vektor mit den Labels (0 oder 1) für jeden Hund\n",
    "    Returns:\n",
    "        float: je kleiner der Wert desto besser ist die Vorhersage des Klassifikators\n",
    "    \"\"\"\n",
    "    cost = # dein code hier\n",
    "    return cost"
   ]
  }
 ],
 "metadata": {
  "kernelspec": {
   "display_name": "Python 3",
   "language": "python",
   "name": "python3"
  },
  "language_info": {
   "codemirror_mode": {
    "name": "ipython",
    "version": 3
   },
   "file_extension": ".py",
   "mimetype": "text/x-python",
   "name": "python",
   "nbconvert_exporter": "python",
   "pygments_lexer": "ipython3",
   "version": "3.6.3"
  },
  "varInspector": {
   "cols": {
    "lenName": 16,
    "lenType": 16,
    "lenVar": 40
   },
   "kernels_config": {
    "python": {
     "delete_cmd_postfix": "",
     "delete_cmd_prefix": "del ",
     "library": "var_list.py",
     "varRefreshCmd": "print(var_dic_list())"
    },
    "r": {
     "delete_cmd_postfix": ") ",
     "delete_cmd_prefix": "rm(",
     "library": "var_list.r",
     "varRefreshCmd": "cat(var_dic_list()) "
    }
   },
   "types_to_exclude": [
    "module",
    "function",
    "builtin_function_or_method",
    "instance",
    "_Feature"
   ],
   "window_display": false
  }
 },
 "nbformat": 4,
 "nbformat_minor": 2
}
