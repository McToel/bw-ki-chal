{
 "cells": [
  {
   "cell_type": "markdown",
   "metadata": {},
   "source": [
    "### Aufgabe 7\n",
    "\n",
    "_Das Tolle am maschinellen Lernen ist, dass der Algorithmus im Laufe der Zeit immer genauer funktionieren sollte. Also, auch wenn du das Ergebnis schon kennst: Berechne bitte die Genauigkeit des Zufallsklassifizierers aus den Daten – und verfolge, wie viel besser oder schlechter dein Klassifikator im Laufe der Zeit wird._"
   ]
  },
  {
   "cell_type": "code",
   "execution_count": null,
   "metadata": {},
   "outputs": [],
   "source": [
    "import numpy as np\n",
    "\n",
    "# Daten laden\n",
    "D = np.load('data/train_data.npy')"
   ]
  },
  {
   "cell_type": "markdown",
   "metadata": {},
   "source": [
    "Als Beispiel fügen wir hier den zufälligen Klassifizierer ein, der jeden Hund nach dem Zufallsprinzip als gesund oder krank einstuft."
   ]
  },
  {
   "cell_type": "code",
   "execution_count": null,
   "metadata": {},
   "outputs": [],
   "source": [
    "def example_classifier(features):\n",
    "    \"\"\"Klassifiziert jeden Hund zufällig.\n",
    "\n",
    "    Args:\n",
    "        features (numpy.ndarray): Vektor mit den Eigenschaften eines Hundes:\n",
    "            - pro Eigenschaft ein Wert\n",
    "\n",
    "    Returns:\n",
    "        int: 0 bedeutet, der Hund ist gesund,\n",
    "             1 bedeutet, der Hund ist krank.\n",
    "    \"\"\"\n",
    "    c = np.random.randint(2)\n",
    "    return c"
   ]
  },
  {
   "cell_type": "markdown",
   "metadata": {},
   "source": [
    "Mit der folgenden Funktion, die du noch ausfüllen musst, versuchst du nun zu bestimmen, wie gut der Klassifikator ist, d.h. wie häufig seine Diagnose gesund/krank korrekt ist."
   ]
  },
  {
   "cell_type": "code",
   "execution_count": null,
   "metadata": {},
   "outputs": [],
   "source": [
    "def accuracy(D, classifier):\n",
    "    \"\"\"Berechnung der Accuracy eines Klassifizierers.\n",
    "\n",
    "    Args:\n",
    "        D (numpy.ndarray): Datenmatrix:\n",
    "            - pro Hund eine Zeile (erster Index)\n",
    "            - pro Eigenschaft eine Spalte (zweiter Index)\n",
    "        classifier (function): Ein belieber Klassifizierer.\n",
    "            Dies koennte zum Beispiel der `random_classifier`\n",
    "            oder der `constant_classifier` aus der letzten\n",
    "            Aufgabe sein.\n",
    "\n",
    "    Returns:\n",
    "        float: Accuracy des Klassifizierers. (1. entspricht\n",
    "            alles richtig Klassifiziert, 0.5 entspricht die\n",
    "            Haelfte richtig Klassifiziert.)\n",
    "    \"\"\"\n",
    "    correct = # ADD YOUR CODE HERE\n",
    "    acc = np.mean(correct)\n",
    "    return acc"
   ]
  },
  {
   "cell_type": "markdown",
   "metadata": {},
   "source": [
    "Den zufälligen Klassifizierer, selbst eine Funktion, könnt ihr wiederum als Argument an die Funktion `accuracy(D, classifier)` übergeben."
   ]
  },
  {
   "cell_type": "code",
   "execution_count": null,
   "metadata": {},
   "outputs": [],
   "source": [
    "accuracy(D, example_classifier)"
   ]
  },
  {
   "cell_type": "markdown",
   "metadata": {},
   "source": [
    "Wie gut ist eigentlich euer konstanter Klassifizierer im Gegensatz zum zufälligen Klassifizierer? Warum gibt es da Unterschiede?"
   ]
  }
 ],
 "metadata": {
  "kernelspec": {
   "display_name": "Python 3",
   "language": "python",
   "name": "python3"
  },
  "language_info": {
   "codemirror_mode": {
    "name": "ipython",
    "version": 3
   },
   "file_extension": ".py",
   "mimetype": "text/x-python",
   "name": "python",
   "nbconvert_exporter": "python",
   "pygments_lexer": "ipython3",
   "version": "3.6.3"
  },
  "varInspector": {
   "cols": {
    "lenName": 16,
    "lenType": 16,
    "lenVar": 40
   },
   "kernels_config": {
    "python": {
     "delete_cmd_postfix": "",
     "delete_cmd_prefix": "del ",
     "library": "var_list.py",
     "varRefreshCmd": "print(var_dic_list())"
    },
    "r": {
     "delete_cmd_postfix": ") ",
     "delete_cmd_prefix": "rm(",
     "library": "var_list.r",
     "varRefreshCmd": "cat(var_dic_list()) "
    }
   },
   "types_to_exclude": [
    "module",
    "function",
    "builtin_function_or_method",
    "instance",
    "_Feature"
   ],
   "window_display": false
  }
 },
 "nbformat": 4,
 "nbformat_minor": 2
}
